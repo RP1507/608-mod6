{
 "cells": [
  {
   "cell_type": "markdown",
   "id": "6f0e000d-1b18-4655-a8f5-b98e53c1dab3",
   "metadata": {},
   "source": [
    "# Module 6 Bonus - Fantasy Sport Inspection"
   ]
  },
  {
   "cell_type": "code",
   "execution_count": 1,
   "id": "ea5ccdb7-87b0-44b4-8c14-2ecaaa58791d",
   "metadata": {},
   "outputs": [],
   "source": [
    "import pandas as pd"
   ]
  },
  {
   "cell_type": "code",
   "execution_count": 2,
   "id": "81c36642-f1ee-4469-a308-36dfec549e83",
   "metadata": {},
   "outputs": [],
   "source": [
    "fantasy_sports = pd.read_csv('FantasySportsHistory.csv')"
   ]
  },
  {
   "cell_type": "code",
   "execution_count": 3,
   "id": "03302bd7-4157-48fa-9261-068ad2d026da",
   "metadata": {},
   "outputs": [],
   "source": [
    "pd.set_option('precision',2) # formatting for floating point values"
   ]
  },
  {
   "cell_type": "code",
   "execution_count": 4,
   "id": "2f5a5d60-45ae-4ad4-b123-d2386d3eee81",
   "metadata": {},
   "outputs": [
    {
     "data": {
      "text/html": [
       "<div>\n",
       "<style scoped>\n",
       "    .dataframe tbody tr th:only-of-type {\n",
       "        vertical-align: middle;\n",
       "    }\n",
       "\n",
       "    .dataframe tbody tr th {\n",
       "        vertical-align: top;\n",
       "    }\n",
       "\n",
       "    .dataframe thead th {\n",
       "        text-align: right;\n",
       "    }\n",
       "</style>\n",
       "<table border=\"1\" class=\"dataframe\">\n",
       "  <thead>\n",
       "    <tr style=\"text-align: right;\">\n",
       "      <th></th>\n",
       "      <th>Sport</th>\n",
       "      <th>Game_Type</th>\n",
       "      <th>Entry</th>\n",
       "      <th>Contest_Date_EST</th>\n",
       "      <th>Place</th>\n",
       "      <th>Points</th>\n",
       "      <th>Winnings_Non_Ticket</th>\n",
       "      <th>Contest_Entries</th>\n",
       "      <th>Entry_Fee</th>\n",
       "      <th>Prize_Pool</th>\n",
       "      <th>Places_Paid</th>\n",
       "    </tr>\n",
       "  </thead>\n",
       "  <tbody>\n",
       "    <tr>\n",
       "      <th>0</th>\n",
       "      <td>CBB</td>\n",
       "      <td>Classic</td>\n",
       "      <td>CBB $2K And-One</td>\n",
       "      <td>2/24/2022</td>\n",
       "      <td>28</td>\n",
       "      <td>253.25</td>\n",
       "      <td>6.0</td>\n",
       "      <td>2378</td>\n",
       "      <td>$1.00</td>\n",
       "      <td>$2,000.00</td>\n",
       "      <td>616</td>\n",
       "    </tr>\n",
       "    <tr>\n",
       "      <th>1</th>\n",
       "      <td>NHL</td>\n",
       "      <td>Showdown</td>\n",
       "      <td>NHL Showdown $1K Hip Check (NYI vs SJ)</td>\n",
       "      <td>2/24/2022</td>\n",
       "      <td>1106</td>\n",
       "      <td>44.50</td>\n",
       "      <td>0.0</td>\n",
       "      <td>1189</td>\n",
       "      <td>$1.00</td>\n",
       "      <td>$1,000.00</td>\n",
       "      <td>285</td>\n",
       "    </tr>\n",
       "    <tr>\n",
       "      <th>2</th>\n",
       "      <td>NHL</td>\n",
       "      <td>Classic</td>\n",
       "      <td>NHL $5K Hip Check</td>\n",
       "      <td>2/24/2022</td>\n",
       "      <td>1746</td>\n",
       "      <td>103.80</td>\n",
       "      <td>0.0</td>\n",
       "      <td>5945</td>\n",
       "      <td>$1.00</td>\n",
       "      <td>$5,000.00</td>\n",
       "      <td>1543</td>\n",
       "    </tr>\n",
       "    <tr>\n",
       "      <th>3</th>\n",
       "      <td>TEN</td>\n",
       "      <td>Single Match</td>\n",
       "      <td>TEN $2.5K Ace [20 Entry Max]</td>\n",
       "      <td>2/22/2022</td>\n",
       "      <td>1</td>\n",
       "      <td>388.05</td>\n",
       "      <td>1000.0</td>\n",
       "      <td>2972</td>\n",
       "      <td>$1.00</td>\n",
       "      <td>$2,500.00</td>\n",
       "      <td>768</td>\n",
       "    </tr>\n",
       "    <tr>\n",
       "      <th>4</th>\n",
       "      <td>NBA</td>\n",
       "      <td>Showdown Captain Mode</td>\n",
       "      <td>NBA Showdown $10K And-One (GSW vs POR)</td>\n",
       "      <td>2/24/2022</td>\n",
       "      <td>10025</td>\n",
       "      <td>172.13</td>\n",
       "      <td>0.0</td>\n",
       "      <td>11890</td>\n",
       "      <td>$1.00</td>\n",
       "      <td>$10,000.00</td>\n",
       "      <td>3080</td>\n",
       "    </tr>\n",
       "  </tbody>\n",
       "</table>\n",
       "</div>"
      ],
      "text/plain": [
       "  Sport              Game_Type                                   Entry  \\\n",
       "0   CBB                Classic                         CBB $2K And-One   \n",
       "1   NHL               Showdown  NHL Showdown $1K Hip Check (NYI vs SJ)   \n",
       "2   NHL                Classic                       NHL $5K Hip Check   \n",
       "3   TEN           Single Match            TEN $2.5K Ace [20 Entry Max]   \n",
       "4   NBA  Showdown Captain Mode  NBA Showdown $10K And-One (GSW vs POR)   \n",
       "\n",
       "  Contest_Date_EST  Place  Points  Winnings_Non_Ticket  Contest_Entries  \\\n",
       "0        2/24/2022     28  253.25                  6.0             2378   \n",
       "1        2/24/2022   1106   44.50                  0.0             1189   \n",
       "2        2/24/2022   1746  103.80                  0.0             5945   \n",
       "3        2/22/2022      1  388.05               1000.0             2972   \n",
       "4        2/24/2022  10025  172.13                  0.0            11890   \n",
       "\n",
       "  Entry_Fee   Prize_Pool  Places_Paid  \n",
       "0    $1.00    $2,000.00           616  \n",
       "1    $1.00    $1,000.00           285  \n",
       "2    $1.00    $5,000.00          1543  \n",
       "3    $1.00    $2,500.00           768  \n",
       "4    $1.00   $10,000.00          3080  "
      ]
     },
     "execution_count": 4,
     "metadata": {},
     "output_type": "execute_result"
    }
   ],
   "source": [
    "fantasy_sports.head()"
   ]
  },
  {
   "cell_type": "code",
   "execution_count": 5,
   "id": "c18c7cf3-09e2-404e-a1e7-c15584170a86",
   "metadata": {},
   "outputs": [],
   "source": [
    "fantasy_sports.columns = ['Sport', 'Game', 'Contest', 'Date', 'Place', 'Score', 'Winnings', 'Entrants', 'Fee', 'PrizePool', 'PlacesPaid']"
   ]
  },
  {
   "cell_type": "code",
   "execution_count": 6,
   "id": "7b73875e-90e1-4565-8464-7ddef0630986",
   "metadata": {},
   "outputs": [
    {
     "data": {
      "text/html": [
       "<div>\n",
       "<style scoped>\n",
       "    .dataframe tbody tr th:only-of-type {\n",
       "        vertical-align: middle;\n",
       "    }\n",
       "\n",
       "    .dataframe tbody tr th {\n",
       "        vertical-align: top;\n",
       "    }\n",
       "\n",
       "    .dataframe thead th {\n",
       "        text-align: right;\n",
       "    }\n",
       "</style>\n",
       "<table border=\"1\" class=\"dataframe\">\n",
       "  <thead>\n",
       "    <tr style=\"text-align: right;\">\n",
       "      <th></th>\n",
       "      <th>Sport</th>\n",
       "      <th>Game</th>\n",
       "      <th>Contest</th>\n",
       "      <th>Date</th>\n",
       "      <th>Place</th>\n",
       "      <th>Score</th>\n",
       "      <th>Winnings</th>\n",
       "      <th>Entrants</th>\n",
       "      <th>Fee</th>\n",
       "      <th>PrizePool</th>\n",
       "      <th>PlacesPaid</th>\n",
       "    </tr>\n",
       "  </thead>\n",
       "  <tbody>\n",
       "    <tr>\n",
       "      <th>0</th>\n",
       "      <td>CBB</td>\n",
       "      <td>Classic</td>\n",
       "      <td>CBB $2K And-One</td>\n",
       "      <td>2/24/2022</td>\n",
       "      <td>28</td>\n",
       "      <td>253.25</td>\n",
       "      <td>6.0</td>\n",
       "      <td>2378</td>\n",
       "      <td>$1.00</td>\n",
       "      <td>$2,000.00</td>\n",
       "      <td>616</td>\n",
       "    </tr>\n",
       "    <tr>\n",
       "      <th>1</th>\n",
       "      <td>NHL</td>\n",
       "      <td>Showdown</td>\n",
       "      <td>NHL Showdown $1K Hip Check (NYI vs SJ)</td>\n",
       "      <td>2/24/2022</td>\n",
       "      <td>1106</td>\n",
       "      <td>44.50</td>\n",
       "      <td>0.0</td>\n",
       "      <td>1189</td>\n",
       "      <td>$1.00</td>\n",
       "      <td>$1,000.00</td>\n",
       "      <td>285</td>\n",
       "    </tr>\n",
       "    <tr>\n",
       "      <th>2</th>\n",
       "      <td>NHL</td>\n",
       "      <td>Classic</td>\n",
       "      <td>NHL $5K Hip Check</td>\n",
       "      <td>2/24/2022</td>\n",
       "      <td>1746</td>\n",
       "      <td>103.80</td>\n",
       "      <td>0.0</td>\n",
       "      <td>5945</td>\n",
       "      <td>$1.00</td>\n",
       "      <td>$5,000.00</td>\n",
       "      <td>1543</td>\n",
       "    </tr>\n",
       "    <tr>\n",
       "      <th>3</th>\n",
       "      <td>TEN</td>\n",
       "      <td>Single Match</td>\n",
       "      <td>TEN $2.5K Ace [20 Entry Max]</td>\n",
       "      <td>2/22/2022</td>\n",
       "      <td>1</td>\n",
       "      <td>388.05</td>\n",
       "      <td>1000.0</td>\n",
       "      <td>2972</td>\n",
       "      <td>$1.00</td>\n",
       "      <td>$2,500.00</td>\n",
       "      <td>768</td>\n",
       "    </tr>\n",
       "    <tr>\n",
       "      <th>4</th>\n",
       "      <td>NBA</td>\n",
       "      <td>Showdown Captain Mode</td>\n",
       "      <td>NBA Showdown $10K And-One (GSW vs POR)</td>\n",
       "      <td>2/24/2022</td>\n",
       "      <td>10025</td>\n",
       "      <td>172.13</td>\n",
       "      <td>0.0</td>\n",
       "      <td>11890</td>\n",
       "      <td>$1.00</td>\n",
       "      <td>$10,000.00</td>\n",
       "      <td>3080</td>\n",
       "    </tr>\n",
       "  </tbody>\n",
       "</table>\n",
       "</div>"
      ],
      "text/plain": [
       "  Sport                   Game                                 Contest  \\\n",
       "0   CBB                Classic                         CBB $2K And-One   \n",
       "1   NHL               Showdown  NHL Showdown $1K Hip Check (NYI vs SJ)   \n",
       "2   NHL                Classic                       NHL $5K Hip Check   \n",
       "3   TEN           Single Match            TEN $2.5K Ace [20 Entry Max]   \n",
       "4   NBA  Showdown Captain Mode  NBA Showdown $10K And-One (GSW vs POR)   \n",
       "\n",
       "        Date  Place   Score  Winnings  Entrants     Fee    PrizePool  \\\n",
       "0  2/24/2022     28  253.25       6.0      2378  $1.00    $2,000.00    \n",
       "1  2/24/2022   1106   44.50       0.0      1189  $1.00    $1,000.00    \n",
       "2  2/24/2022   1746  103.80       0.0      5945  $1.00    $5,000.00    \n",
       "3  2/22/2022      1  388.05    1000.0      2972  $1.00    $2,500.00    \n",
       "4  2/24/2022  10025  172.13       0.0     11890  $1.00   $10,000.00    \n",
       "\n",
       "   PlacesPaid  \n",
       "0         616  \n",
       "1         285  \n",
       "2        1543  \n",
       "3         768  \n",
       "4        3080  "
      ]
     },
     "execution_count": 6,
     "metadata": {},
     "output_type": "execute_result"
    }
   ],
   "source": [
    "fantasy_sports.head()"
   ]
  },
  {
   "cell_type": "code",
   "execution_count": 7,
   "id": "86e59669-8228-44e1-ac45-c37b5f49e819",
   "metadata": {},
   "outputs": [
    {
     "data": {
      "text/html": [
       "<div>\n",
       "<style scoped>\n",
       "    .dataframe tbody tr th:only-of-type {\n",
       "        vertical-align: middle;\n",
       "    }\n",
       "\n",
       "    .dataframe tbody tr th {\n",
       "        vertical-align: top;\n",
       "    }\n",
       "\n",
       "    .dataframe thead th {\n",
       "        text-align: right;\n",
       "    }\n",
       "</style>\n",
       "<table border=\"1\" class=\"dataframe\">\n",
       "  <thead>\n",
       "    <tr style=\"text-align: right;\">\n",
       "      <th></th>\n",
       "      <th>Place</th>\n",
       "      <th>Score</th>\n",
       "      <th>Winnings</th>\n",
       "      <th>Entrants</th>\n",
       "      <th>PlacesPaid</th>\n",
       "    </tr>\n",
       "  </thead>\n",
       "  <tbody>\n",
       "    <tr>\n",
       "      <th>count</th>\n",
       "      <td>1631.00</td>\n",
       "      <td>1631.00</td>\n",
       "      <td>1631.00</td>\n",
       "      <td>1631.00</td>\n",
       "      <td>1631.00</td>\n",
       "    </tr>\n",
       "    <tr>\n",
       "      <th>mean</th>\n",
       "      <td>18956.25</td>\n",
       "      <td>322.69</td>\n",
       "      <td>4.38</td>\n",
       "      <td>40664.29</td>\n",
       "      <td>8957.84</td>\n",
       "    </tr>\n",
       "    <tr>\n",
       "      <th>std</th>\n",
       "      <td>24861.09</td>\n",
       "      <td>743.01</td>\n",
       "      <td>77.29</td>\n",
       "      <td>43869.76</td>\n",
       "      <td>10008.21</td>\n",
       "    </tr>\n",
       "    <tr>\n",
       "      <th>min</th>\n",
       "      <td>1.00</td>\n",
       "      <td>0.00</td>\n",
       "      <td>0.00</td>\n",
       "      <td>3.00</td>\n",
       "      <td>0.00</td>\n",
       "    </tr>\n",
       "    <tr>\n",
       "      <th>25%</th>\n",
       "      <td>3032.00</td>\n",
       "      <td>125.21</td>\n",
       "      <td>0.00</td>\n",
       "      <td>9512.00</td>\n",
       "      <td>1815.00</td>\n",
       "    </tr>\n",
       "    <tr>\n",
       "      <th>50%</th>\n",
       "      <td>11170.00</td>\n",
       "      <td>207.63</td>\n",
       "      <td>0.00</td>\n",
       "      <td>29726.00</td>\n",
       "      <td>6840.00</td>\n",
       "    </tr>\n",
       "    <tr>\n",
       "      <th>75%</th>\n",
       "      <td>25646.50</td>\n",
       "      <td>300.83</td>\n",
       "      <td>0.00</td>\n",
       "      <td>57403.00</td>\n",
       "      <td>11410.00</td>\n",
       "    </tr>\n",
       "    <tr>\n",
       "      <th>max</th>\n",
       "      <td>321443.00</td>\n",
       "      <td>14870.25</td>\n",
       "      <td>2000.00</td>\n",
       "      <td>396353.00</td>\n",
       "      <td>97200.00</td>\n",
       "    </tr>\n",
       "  </tbody>\n",
       "</table>\n",
       "</div>"
      ],
      "text/plain": [
       "           Place     Score  Winnings   Entrants  PlacesPaid\n",
       "count    1631.00   1631.00   1631.00    1631.00     1631.00\n",
       "mean    18956.25    322.69      4.38   40664.29     8957.84\n",
       "std     24861.09    743.01     77.29   43869.76    10008.21\n",
       "min         1.00      0.00      0.00       3.00        0.00\n",
       "25%      3032.00    125.21      0.00    9512.00     1815.00\n",
       "50%     11170.00    207.63      0.00   29726.00     6840.00\n",
       "75%     25646.50    300.83      0.00   57403.00    11410.00\n",
       "max    321443.00  14870.25   2000.00  396353.00    97200.00"
      ]
     },
     "execution_count": 7,
     "metadata": {},
     "output_type": "execute_result"
    }
   ],
   "source": [
    "fantasy_sports.describe()"
   ]
  },
  {
   "cell_type": "code",
   "execution_count": 8,
   "id": "606059a8-a57b-4a51-82e9-2e34356ee381",
   "metadata": {},
   "outputs": [
    {
     "data": {
      "text/plain": [
       "count      1631\n",
       "unique        2\n",
       "top       False\n",
       "freq       1568\n",
       "Name: Place, dtype: object"
      ]
     },
     "execution_count": 8,
     "metadata": {},
     "output_type": "execute_result"
    }
   ],
   "source": [
    "(fantasy_sports.Place <= 15).describe()"
   ]
  },
  {
   "cell_type": "code",
   "execution_count": 9,
   "id": "8b4df41f-9e0b-4098-bb11-bd2af5a3a4ec",
   "metadata": {},
   "outputs": [
    {
     "data": {
      "text/html": [
       "<div>\n",
       "<style scoped>\n",
       "    .dataframe tbody tr th:only-of-type {\n",
       "        vertical-align: middle;\n",
       "    }\n",
       "\n",
       "    .dataframe tbody tr th {\n",
       "        vertical-align: top;\n",
       "    }\n",
       "\n",
       "    .dataframe thead th {\n",
       "        text-align: right;\n",
       "    }\n",
       "</style>\n",
       "<table border=\"1\" class=\"dataframe\">\n",
       "  <thead>\n",
       "    <tr style=\"text-align: right;\">\n",
       "      <th></th>\n",
       "      <th>Sport</th>\n",
       "      <th>Game</th>\n",
       "      <th>Contest</th>\n",
       "      <th>Date</th>\n",
       "      <th>Place</th>\n",
       "      <th>Score</th>\n",
       "      <th>Winnings</th>\n",
       "      <th>Entrants</th>\n",
       "      <th>Fee</th>\n",
       "      <th>PrizePool</th>\n",
       "      <th>PlacesPaid</th>\n",
       "    </tr>\n",
       "  </thead>\n",
       "  <tbody>\n",
       "    <tr>\n",
       "      <th>1626</th>\n",
       "      <td>CFB</td>\n",
       "      <td>Classic</td>\n",
       "      <td>CFB $3K mini-MAX [150 Entry Max] (5/8)</td>\n",
       "      <td>1/1/2022</td>\n",
       "      <td>6168</td>\n",
       "      <td>126.96</td>\n",
       "      <td>0.0</td>\n",
       "      <td>7134</td>\n",
       "      <td>$0.50</td>\n",
       "      <td>$3,000.00</td>\n",
       "      <td>1480</td>\n",
       "    </tr>\n",
       "    <tr>\n",
       "      <th>1627</th>\n",
       "      <td>CFB</td>\n",
       "      <td>Classic</td>\n",
       "      <td>CFB $3K mini-MAX [150 Entry Max] (7/8)</td>\n",
       "      <td>1/1/2022</td>\n",
       "      <td>6313</td>\n",
       "      <td>123.00</td>\n",
       "      <td>0.0</td>\n",
       "      <td>7134</td>\n",
       "      <td>$0.50</td>\n",
       "      <td>$3,000.00</td>\n",
       "      <td>1480</td>\n",
       "    </tr>\n",
       "    <tr>\n",
       "      <th>1628</th>\n",
       "      <td>CFB</td>\n",
       "      <td>Classic</td>\n",
       "      <td>CFB $3K mini-MAX [150 Entry Max] (8/8)</td>\n",
       "      <td>1/1/2022</td>\n",
       "      <td>6330</td>\n",
       "      <td>122.40</td>\n",
       "      <td>0.0</td>\n",
       "      <td>7134</td>\n",
       "      <td>$0.50</td>\n",
       "      <td>$3,000.00</td>\n",
       "      <td>1480</td>\n",
       "    </tr>\n",
       "    <tr>\n",
       "      <th>1629</th>\n",
       "      <td>CFB</td>\n",
       "      <td>Classic</td>\n",
       "      <td>CFB $3K mini-MAX [150 Entry Max] (6/8)</td>\n",
       "      <td>1/1/2022</td>\n",
       "      <td>6703</td>\n",
       "      <td>108.00</td>\n",
       "      <td>0.0</td>\n",
       "      <td>7134</td>\n",
       "      <td>$0.50</td>\n",
       "      <td>$3,000.00</td>\n",
       "      <td>1480</td>\n",
       "    </tr>\n",
       "    <tr>\n",
       "      <th>1630</th>\n",
       "      <td>NHL</td>\n",
       "      <td>Showdown</td>\n",
       "      <td>NHL Showdown $750 Hip Check (STL vs MIN)</td>\n",
       "      <td>1/1/2022</td>\n",
       "      <td>587</td>\n",
       "      <td>74.00</td>\n",
       "      <td>0.0</td>\n",
       "      <td>891</td>\n",
       "      <td>$1.00</td>\n",
       "      <td>$750.00</td>\n",
       "      <td>204</td>\n",
       "    </tr>\n",
       "  </tbody>\n",
       "</table>\n",
       "</div>"
      ],
      "text/plain": [
       "     Sport      Game                                   Contest      Date  \\\n",
       "1626   CFB   Classic    CFB $3K mini-MAX [150 Entry Max] (5/8)  1/1/2022   \n",
       "1627   CFB   Classic    CFB $3K mini-MAX [150 Entry Max] (7/8)  1/1/2022   \n",
       "1628   CFB   Classic    CFB $3K mini-MAX [150 Entry Max] (8/8)  1/1/2022   \n",
       "1629   CFB   Classic    CFB $3K mini-MAX [150 Entry Max] (6/8)  1/1/2022   \n",
       "1630   NHL  Showdown  NHL Showdown $750 Hip Check (STL vs MIN)  1/1/2022   \n",
       "\n",
       "      Place   Score  Winnings  Entrants     Fee   PrizePool  PlacesPaid  \n",
       "1626   6168  126.96       0.0      7134  $0.50   $3,000.00         1480  \n",
       "1627   6313  123.00       0.0      7134  $0.50   $3,000.00         1480  \n",
       "1628   6330  122.40       0.0      7134  $0.50   $3,000.00         1480  \n",
       "1629   6703  108.00       0.0      7134  $0.50   $3,000.00         1480  \n",
       "1630    587   74.00       0.0       891  $1.00     $750.00          204  "
      ]
     },
     "execution_count": 9,
     "metadata": {},
     "output_type": "execute_result"
    }
   ],
   "source": [
    "fantasy_sports.tail()"
   ]
  },
  {
   "cell_type": "code",
   "execution_count": 10,
   "id": "f479df82-6a67-4e1b-a95c-74e36a3cd198",
   "metadata": {},
   "outputs": [
    {
     "data": {
      "text/plain": [
       "count      1631\n",
       "unique        2\n",
       "top       False\n",
       "freq       1149\n",
       "Name: Sport, dtype: object"
      ]
     },
     "execution_count": 10,
     "metadata": {},
     "output_type": "execute_result"
    }
   ],
   "source": [
    "(fantasy_sports.Sport == 'NBA').describe()"
   ]
  },
  {
   "cell_type": "code",
   "execution_count": 11,
   "id": "efe5c0ae-3145-41e4-a6c8-5e95fcf1d864",
   "metadata": {},
   "outputs": [
    {
     "data": {
      "text/plain": [
       "2000.0"
      ]
     },
     "execution_count": 11,
     "metadata": {},
     "output_type": "execute_result"
    }
   ],
   "source": [
    "fantasy_sports.Winnings.max()"
   ]
  },
  {
   "cell_type": "code",
   "execution_count": 12,
   "id": "9e11fb2d-f915-408d-9687-8fd6c558ebe6",
   "metadata": {},
   "outputs": [],
   "source": [
    "%matplotlib inline"
   ]
  },
  {
   "cell_type": "code",
   "execution_count": 17,
   "id": "51e33439-6c60-49a3-b050-b2189c5e18db",
   "metadata": {},
   "outputs": [
    {
     "data": {
      "image/png": "[encoded data removed]",
      "text/plain": [
       "<Figure size 432x288 with 6 Axes>"
      ]
     },
     "metadata": {
      "needs_background": "light"
     },
     "output_type": "display_data"
    }
   ],
   "source": [
    "histogram = fantasy_sports.hist()"
   ]
  },
  {
   "cell_type": "code",
   "execution_count": 19,
   "id": "341e7c4d-de5b-4ff9-855d-c7d1251fd528",
   "metadata": {},
   "outputs": [
    {
     "data": {
      "image/png": "[encoded data removed]",
      "text/plain": [
       "<Figure size 432x288 with 1 Axes>"
      ]
     },
     "metadata": {
      "needs_background": "light"
     },
     "output_type": "display_data"
    }
   ],
   "source": [
    "histogram = fantasy_sports.Place.hist()"
   ]
  },
  {
   "cell_type": "code",
   "execution_count": 20,
   "id": "13777369-0f03-469d-b004-e07551b8af29",
   "metadata": {},
   "outputs": [
    {
     "data": {
      "image/png": "[encoded data removed]",
      "text/plain": [
       "<Figure size 432x288 with 1 Axes>"
      ]
     },
     "metadata": {
      "needs_background": "light"
     },
     "output_type": "display_data"
    }
   ],
   "source": [
    "histogram = fantasy_sports.Score.hist()"
   ]
  },
  {
   "cell_type": "code",
   "execution_count": 21,
   "id": "93e5166b-2fe7-49eb-9110-815193658a2f",
   "metadata": {},
   "outputs": [
    {
     "data": {
      "image/png": "[encoded data removed]",
      "text/plain": [
       "<Figure size 432x288 with 1 Axes>"
      ]
     },
     "metadata": {
      "needs_background": "light"
     },
     "output_type": "display_data"
    }
   ],
   "source": [
    "histogram = fantasy_sports.Winnings.hist()"
   ]
  }
 ],
 "metadata": {
  "kernelspec": {
   "display_name": "Python 3 (ipykernel)",
   "language": "python",
   "name": "python3"
  },
  "language_info": {
   "codemirror_mode": {
    "name": "ipython",
    "version": 3
   },
   "file_extension": ".py",
   "mimetype": "text/x-python",
   "name": "python",
   "nbconvert_exporter": "python",
   "pygments_lexer": "ipython3",
   "version": "3.9.7"
  }
 },
 "nbformat": 4,
 "nbformat_minor": 5
}
