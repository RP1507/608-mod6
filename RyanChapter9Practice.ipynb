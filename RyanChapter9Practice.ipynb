{
 "cells": [
  {
   "cell_type": "markdown",
   "id": "32f88ffe-4031-411d-b063-95ff3db82972",
   "metadata": {
    "tags": []
   },
   "source": [
    "# Chapter 9: Files and Exeptions - Practice and Self Checks"
   ]
  },
  {
   "cell_type": "markdown",
   "id": "e29352ba-2454-48d3-baf8-db9c189ad59e",
   "metadata": {
    "tags": []
   },
   "source": [
    "#### Chapter 9.3 Processing Text Files "
   ]
  },
  {
   "cell_type": "code",
   "execution_count": 1,
   "id": "892c15c3-604b-4c46-9aeb-2afa92609639",
   "metadata": {},
   "outputs": [],
   "source": [
    "with open ('accounts.txt', mode='w') as accounts:\n",
    "    accounts.write('100 Jones 24.98\\n')\n",
    "    accounts.write('200 Doe 345.67\\n')\n",
    "    accounts.write('300 White 0.00\\n')\n",
    "    accounts.write('400 Stone -42.16\\n')\n",
    "    accounts.write('500 Rich 224.62\\n')\n",
    "    accounts.write('650 Smith 1495.99\\n')"
   ]
  },
  {
   "cell_type": "markdown",
   "id": "08dd7f3d-0934-4f62-9c05-54d6e5c987ac",
   "metadata": {},
   "source": [
    "#### Self Check 9.3"
   ]
  },
  {
   "cell_type": "code",
   "execution_count": 2,
   "id": "81c683ab-839e-4d23-8b11-adeb9318d812",
   "metadata": {},
   "outputs": [],
   "source": [
    "with open ('grades.txt', mode='w') as grades:\n",
    "    grades.write('1 Red A\\n')\n",
    "    grades.write('2 Green B\\n')\n",
    "    grades.write('3 White A\\n')"
   ]
  },
  {
   "cell_type": "markdown",
   "id": "96d45e45-d7cb-4620-a2b1-a068e562038e",
   "metadata": {},
   "source": [
    "#### Chapter 9.3.2 Reading Data from a Text File"
   ]
  },
  {
   "cell_type": "code",
   "execution_count": 3,
   "id": "6c17ed35-1d30-46c0-ba98-f5cf99ec74fd",
   "metadata": {},
   "outputs": [
    {
     "name": "stdout",
     "output_type": "stream",
     "text": [
      "Accounts  Name         Balance\n",
      "100       Jones          24.98\n",
      "200       Doe           345.67\n",
      "300       White           0.00\n",
      "400       Stone         -42.16\n",
      "500       Rich          224.62\n",
      "650       Smith        1495.99\n"
     ]
    }
   ],
   "source": [
    "with open ('accounts.txt', mode='r') as accounts:\n",
    "    print(f'{\"Accounts\":<10}{\"Name\":<10}{\"Balance\":>10}')\n",
    "    for record in accounts:\n",
    "        account, name, balance = record.split()\n",
    "        print(f'{account:<10}{name:<10}{balance:>10}')"
   ]
  },
  {
   "cell_type": "markdown",
   "id": "b1c2d5b2-0062-4ff0-90cc-06885cf66caa",
   "metadata": {},
   "source": [
    "#### Self Check 9.3.2"
   ]
  },
  {
   "cell_type": "code",
   "execution_count": 4,
   "id": "15d0e3c9-bd28-4d90-825f-8abb6c7b54b2",
   "metadata": {},
   "outputs": [
    {
     "name": "stdout",
     "output_type": "stream",
     "text": [
      "ID  Name   Grade\n",
      "1   Red    A\n",
      "2   Green  B\n",
      "3   White  A\n"
     ]
    }
   ],
   "source": [
    "with open ('grades.txt', mode ='r') as grades:\n",
    "           print(f'{\"ID\":<4}{\"Name\":<7}{\"Grade\"}')\n",
    "           for record in grades:\n",
    "               ID, name, grade = record.split()\n",
    "               print(f'{ID:<4}{name:<7}{grade}')"
   ]
  },
  {
   "cell_type": "markdown",
   "id": "791b4c6d-9b76-4c6f-b05b-3fb0ae0646ed",
   "metadata": {
    "tags": []
   },
   "source": [
    "#### Chapter 9.4 Updating Text Files"
   ]
  },
  {
   "cell_type": "code",
   "execution_count": 5,
   "id": "1187b3ca-d66e-4985-8fb8-1bb5c14dc99b",
   "metadata": {},
   "outputs": [],
   "source": [
    "accounts = open('accounts.txt', 'r')\n",
    "temp_file = open('temp_file.txt', 'w')\n",
    "with accounts, temp_file:\n",
    "    for record in accounts:\n",
    "        account, name, balance = record.split()\n",
    "        if account != '300':\n",
    "            temp_file.write(record)\n",
    "        else:\n",
    "            new_record = ' '.join([account, 'Williams', balance])\n",
    "            temp_file.write(new_record + '\\n')"
   ]
  },
  {
   "cell_type": "code",
   "execution_count": 6,
   "id": "682f1bf8-c429-482d-98ac-3f1324a0daa9",
   "metadata": {},
   "outputs": [],
   "source": [
    "import os"
   ]
  },
  {
   "cell_type": "code",
   "execution_count": 7,
   "id": "df21378b-43d9-438e-a537-54093419880f",
   "metadata": {},
   "outputs": [],
   "source": [
    "os.remove('accounts.txt')"
   ]
  },
  {
   "cell_type": "code",
   "execution_count": 8,
   "id": "5e9544ce-bd44-459a-a5f3-d3ebdc7fb919",
   "metadata": {},
   "outputs": [],
   "source": [
    "os.rename('temp_file.txt', 'accounts.txt')"
   ]
  },
  {
   "cell_type": "markdown",
   "id": "25f9db0f-34f4-4284-8b5e-c3b9a27c739f",
   "metadata": {},
   "source": [
    "#### Self Check 9.4"
   ]
  },
  {
   "cell_type": "code",
   "execution_count": 9,
   "id": "159cfed5-072b-45f2-a1d5-e1e7247d2bda",
   "metadata": {},
   "outputs": [],
   "source": [
    "accounts = open('accounts.txt', 'r')"
   ]
  },
  {
   "cell_type": "code",
   "execution_count": 10,
   "id": "9aa72291-db20-4141-9173-3bf051bb7325",
   "metadata": {},
   "outputs": [],
   "source": [
    "temp_file = open('accounts_temp.txt', 'w')"
   ]
  },
  {
   "cell_type": "code",
   "execution_count": 11,
   "id": "932337aa-dcd4-42a6-b8e4-177768327db9",
   "metadata": {},
   "outputs": [],
   "source": [
    "with accounts, temp_file:\n",
    "    for record in accounts:\n",
    "        account, name, balance = record.split()\n",
    "        if name != 'Doe':\n",
    "            temp_file.write(record)\n",
    "        else:\n",
    "            new_record= ' '.join([account, 'Vore', balance])\n",
    "            temp_file.write(new_record + '\\n')"
   ]
  },
  {
   "cell_type": "code",
   "execution_count": 12,
   "id": "aadee7b1-ca21-4014-8316-2b3d519172c0",
   "metadata": {},
   "outputs": [],
   "source": [
    "import os"
   ]
  },
  {
   "cell_type": "code",
   "execution_count": 13,
   "id": "0dbb8dc9-034b-4636-a6b3-42dd955ac964",
   "metadata": {},
   "outputs": [],
   "source": [
    "os.remove('accounts.txt')"
   ]
  },
  {
   "cell_type": "code",
   "execution_count": 14,
   "id": "8b7d57b2-4beb-4f28-9def-ace0806d62be",
   "metadata": {},
   "outputs": [],
   "source": [
    "os.rename('accounts_temp.txt', 'accounts.txt')"
   ]
  },
  {
   "cell_type": "markdown",
   "id": "3ce7f211-ecfd-4dc1-b026-50c7885d78ee",
   "metadata": {},
   "source": [
    "#### Chapter 9.5 - Serialization with JSON"
   ]
  },
  {
   "cell_type": "code",
   "execution_count": 15,
   "id": "df5cbc11-0493-4835-97e1-abe75d9e0f1e",
   "metadata": {},
   "outputs": [],
   "source": [
    "accounts_dict = {'accounts': [\n",
    "                 {'account': 100, 'name': 'Jones', 'balance': 24.98},\n",
    "                 {'account': 200, 'name': 'Vore', 'balance': 345.67}]}"
   ]
  },
  {
   "cell_type": "code",
   "execution_count": 16,
   "id": "5c3793be-db8f-41f3-955b-acf0796431f6",
   "metadata": {},
   "outputs": [],
   "source": [
    "import json"
   ]
  },
  {
   "cell_type": "code",
   "execution_count": 17,
   "id": "9443293d-ea31-4ff3-aa4a-1ad55c800161",
   "metadata": {},
   "outputs": [],
   "source": [
    "with open('accounts.json', 'w') as accounts:\n",
    "    json.dump(accounts_dict, accounts)"
   ]
  },
  {
   "cell_type": "code",
   "execution_count": 18,
   "id": "4384bc7e-c15b-46e5-9647-11c0745428ce",
   "metadata": {},
   "outputs": [],
   "source": [
    "with open('accounts.json', 'r') as accounts:\n",
    "    accounts_json = json.load(accounts)"
   ]
  },
  {
   "cell_type": "code",
   "execution_count": 19,
   "id": "b1cfa896-0f6c-4d55-95de-e84e45d6e814",
   "metadata": {},
   "outputs": [
    {
     "data": {
      "text/plain": [
       "{'accounts': [{'account': 100, 'name': 'Jones', 'balance': 24.98},\n",
       "  {'account': 200, 'name': 'Vore', 'balance': 345.67}]}"
      ]
     },
     "execution_count": 19,
     "metadata": {},
     "output_type": "execute_result"
    }
   ],
   "source": [
    "accounts_json"
   ]
  },
  {
   "cell_type": "code",
   "execution_count": 20,
   "id": "43ce2eed-8e66-4d8a-9c96-b66c091452bf",
   "metadata": {},
   "outputs": [
    {
     "data": {
      "text/plain": [
       "[{'account': 100, 'name': 'Jones', 'balance': 24.98},\n",
       " {'account': 200, 'name': 'Vore', 'balance': 345.67}]"
      ]
     },
     "execution_count": 20,
     "metadata": {},
     "output_type": "execute_result"
    }
   ],
   "source": [
    "accounts_json['accounts']"
   ]
  },
  {
   "cell_type": "code",
   "execution_count": 21,
   "id": "efa6c6e5-aee5-4225-83c5-85031ba21ab3",
   "metadata": {},
   "outputs": [
    {
     "data": {
      "text/plain": [
       "{'account': 100, 'name': 'Jones', 'balance': 24.98}"
      ]
     },
     "execution_count": 21,
     "metadata": {},
     "output_type": "execute_result"
    }
   ],
   "source": [
    "accounts_json['accounts'][0]"
   ]
  },
  {
   "cell_type": "code",
   "execution_count": 22,
   "id": "2aa419ad-71fd-41e5-b069-e7edc57f8580",
   "metadata": {},
   "outputs": [
    {
     "data": {
      "text/plain": [
       "{'account': 200, 'name': 'Vore', 'balance': 345.67}"
      ]
     },
     "execution_count": 22,
     "metadata": {},
     "output_type": "execute_result"
    }
   ],
   "source": [
    "accounts_json['accounts'][1]"
   ]
  },
  {
   "cell_type": "code",
   "execution_count": 23,
   "id": "8fa21e8c-a486-44d4-8593-e1342c104eb2",
   "metadata": {},
   "outputs": [
    {
     "name": "stdout",
     "output_type": "stream",
     "text": [
      "{\n",
      "    \"accounts\": [\n",
      "        {\n",
      "            \"account\": 100,\n",
      "            \"name\": \"Jones\",\n",
      "            \"balance\": 24.98\n",
      "        },\n",
      "        {\n",
      "            \"account\": 200,\n",
      "            \"name\": \"Vore\",\n",
      "            \"balance\": 345.67\n",
      "        }\n",
      "    ]\n",
      "}\n"
     ]
    },
    {
     "data": {
      "text/plain": [
       "{'accounts': [{'account': 100, 'name': 'Jones', 'balance': 24.98},\n",
       "  {'account': 200, 'name': 'Vore', 'balance': 345.67}]}"
      ]
     },
     "execution_count": 23,
     "metadata": {},
     "output_type": "execute_result"
    }
   ],
   "source": [
    "with open('accounts.json', 'r') as accounts:\n",
    "    print(json.dumps(json.load(accounts), indent=4))\n",
    "    \n",
    "{\n",
    "    \"accounts\": [\n",
    "        {\n",
    "            \"account\": 100,\n",
    "            \"name\": \"Jones\",\n",
    "            \"balance\": 24.98\n",
    "        },\n",
    "        {\n",
    "            \"account\": 200,\n",
    "            \"name\": \"Vore\",\n",
    "            \"balance\": 345.67\n",
    "        }\n",
    "    ]\n",
    "}"
   ]
  },
  {
   "cell_type": "markdown",
   "id": "66132c3c-afcb-448e-9d90-80f5b5a885b2",
   "metadata": {},
   "source": [
    "#### Self Check 9.5"
   ]
  },
  {
   "cell_type": "code",
   "execution_count": 24,
   "id": "d5127e8c-8bb2-4fb0-9ec0-b096c5947228",
   "metadata": {},
   "outputs": [],
   "source": [
    "import json"
   ]
  },
  {
   "cell_type": "code",
   "execution_count": 25,
   "id": "f31caf98-c0b3-470e-a003-6fe5a73d9113",
   "metadata": {},
   "outputs": [],
   "source": [
    "grades_dict = {'gradebook':\n",
    "               [{'student_id': 1, 'name': 'Red', 'grade': 'A'},\n",
    "                {'student_id': 2, 'name': 'Green', 'grade': 'B'},\n",
    "                {'student_id': 3, 'name': 'White', 'grade': 'A'}]}"
   ]
  },
  {
   "cell_type": "code",
   "execution_count": 26,
   "id": "389aa924-8ae3-4e4c-82a5-70cc0c116ad1",
   "metadata": {},
   "outputs": [],
   "source": [
    "with open('grades.json', 'w') as grades:\n",
    "    json.dump(grades_dict, grades)"
   ]
  },
  {
   "cell_type": "code",
   "execution_count": 27,
   "id": "61790981-2ea9-420a-95eb-32da9c9da561",
   "metadata": {},
   "outputs": [
    {
     "name": "stdout",
     "output_type": "stream",
     "text": [
      "{\n",
      "    \"gradebook\": [\n",
      "        {\n",
      "            \"student_id\": 1,\n",
      "            \"name\": \"Red\",\n",
      "            \"grade\": \"A\"\n",
      "        },\n",
      "        {\n",
      "            \"student_id\": 2,\n",
      "            \"name\": \"Green\",\n",
      "            \"grade\": \"B\"\n",
      "        },\n",
      "        {\n",
      "            \"student_id\": 3,\n",
      "            \"name\": \"White\",\n",
      "            \"grade\": \"A\"\n",
      "        }\n",
      "    ]\n",
      "}\n"
     ]
    },
    {
     "data": {
      "text/plain": [
       "{'gradebook': [{'student_id': 1, 'name': 'Red', 'grade': 'A'},\n",
       "  {'student_id': 2, 'name': 'Green', 'grade': 'B'},\n",
       "  {'student_id': 3, 'name': 'White', 'grade': 'A'}]}"
      ]
     },
     "execution_count": 27,
     "metadata": {},
     "output_type": "execute_result"
    }
   ],
   "source": [
    "with open('grades.json', 'r') as grades:\n",
    "    print(json.dumps(json.load(grades), indent=4))\n",
    "{\n",
    "    \"gradebook\": [\n",
    "        {\n",
    "            \"student_id\": 1,\n",
    "            \"name\": \"Red\",\n",
    "            \"grade\": \"A\"\n",
    "        },\n",
    "        {\n",
    "             \"student_id\": 2,\n",
    "            \"name\": \"Green\",\n",
    "            \"grade\": \"B\"\n",
    "        },\n",
    "        {\n",
    "             \"student_id\": 3,\n",
    "            \"name\": \"White\",\n",
    "            \"grade\": \"A\"\n",
    "        }\n",
    "    ]\n",
    "}\n",
    "            "
   ]
  },
  {
   "cell_type": "markdown",
   "id": "6d050800-f6bc-4b75-aae7-48126421a5e0",
   "metadata": {},
   "source": [
    "#### Chapter 9.8.2 - Try Statements"
   ]
  },
  {
   "cell_type": "code",
   "execution_count": 28,
   "id": "96d76657-ae9e-49a8-a64f-ac593f4843c3",
   "metadata": {},
   "outputs": [
    {
     "name": "stdin",
     "output_type": "stream",
     "text": [
      "Enter numerator:  16/4\n"
     ]
    },
    {
     "name": "stdout",
     "output_type": "stream",
     "text": [
      "You must enter two integers\n",
      "\n"
     ]
    },
    {
     "name": "stdin",
     "output_type": "stream",
     "text": [
      "Enter numerator:  16\n",
      "Enter denominator:  4\n"
     ]
    },
    {
     "name": "stdout",
     "output_type": "stream",
     "text": [
      "16.000 / 4.000 = 4.000\n"
     ]
    }
   ],
   "source": [
    "\"\"\"Simple exception handling example\"\"\"\n",
    "\n",
    "while True:\n",
    "    # attempt to convert and divide values\n",
    "    try:\n",
    "        number1 = int(input('Enter numerator: '))\n",
    "        number2 = int(input('Enter denominator: '))\n",
    "        result = number1 / number2\n",
    "    except ValueError: #tried to convert non-numeric value to int\n",
    "        print ('You must enter two integers\\n')\n",
    "    except ZeroDivisionError: #denominator was 0\n",
    "        print ('You can not divide by zero!\\n')\n",
    "    else: # executes only if no exceptions occur\n",
    "        print(f'{number1:.3f} / {number2:.3f} = {result:.3f}')\n",
    "        break #terminate the loop"
   ]
  },
  {
   "cell_type": "markdown",
   "id": "fa850be4-e1d2-45fa-bcb1-9e30e08f32b4",
   "metadata": {},
   "source": [
    "#### Self Check 9.8.2"
   ]
  },
  {
   "cell_type": "code",
   "execution_count": 29,
   "id": "5453f0ef-a982-4c7d-923b-ef4dfc7600b4",
   "metadata": {},
   "outputs": [],
   "source": [
    "def try_it(value):\n",
    "    try:\n",
    "        x=int(value)\n",
    "    except ValueError:\n",
    "        print(f'{value} could not be converted to an integer')\n",
    "    else:\n",
    "        print(f'int({value}) is {x}')"
   ]
  },
  {
   "cell_type": "code",
   "execution_count": 30,
   "id": "83c4e8e1-a9d3-4978-bbde-daf00ae6f48a",
   "metadata": {},
   "outputs": [
    {
     "name": "stdout",
     "output_type": "stream",
     "text": [
      "int(10.7) is 10\n"
     ]
    }
   ],
   "source": [
    "try_it(10.7)"
   ]
  },
  {
   "cell_type": "code",
   "execution_count": 31,
   "id": "56dfbc91-52a5-49dc-81ed-c14538542e03",
   "metadata": {},
   "outputs": [
    {
     "name": "stdout",
     "output_type": "stream",
     "text": [
      "Python could not be converted to an integer\n"
     ]
    }
   ],
   "source": [
    "try_it('Python')"
   ]
  },
  {
   "cell_type": "markdown",
   "id": "d36e4e74-8f22-4403-9e14-4c2c6a939dd6",
   "metadata": {},
   "source": [
    "#### Chapter 9.9 - Finally Clause"
   ]
  },
  {
   "cell_type": "code",
   "execution_count": 32,
   "id": "a09e2d00-2a22-43f6-89fd-c5a1d218d518",
   "metadata": {},
   "outputs": [
    {
     "name": "stdout",
     "output_type": "stream",
     "text": [
      "Try suite with no exceptions raised\n",
      "Else executes because no exceptions in the try suite\n",
      "Finally always executes\n"
     ]
    }
   ],
   "source": [
    "try:\n",
    "    print('Try suite with no exceptions raised')\n",
    "except:\n",
    "    print('This will no execute')\n",
    "else:\n",
    "    print('Else executes because no exceptions in the try suite')\n",
    "finally:\n",
    "    print('Finally always executes')"
   ]
  },
  {
   "cell_type": "code",
   "execution_count": 33,
   "id": "758bc979-ba82-4b1f-9de4-1ba7e8cfc07a",
   "metadata": {},
   "outputs": [
    {
     "name": "stdout",
     "output_type": "stream",
     "text": [
      "Try suite that raises an exception\n",
      "A ValueError occurred\n",
      "Finally always executes\n"
     ]
    }
   ],
   "source": [
    "try:\n",
    "    print('Try suite that raises an exception')\n",
    "    int('hello')\n",
    "    print('This will not execute')\n",
    "except ValueError:\n",
    "    print('A ValueError occurred')\n",
    "else: \n",
    "    print('Else will not execute because an exeption occurred')\n",
    "finally:\n",
    "    print('Finally always executes')"
   ]
  },
  {
   "cell_type": "markdown",
   "id": "25842d50-3c31-4d99-a8b4-55deca249d30",
   "metadata": {},
   "source": [
    "#### Self Check 9.9"
   ]
  },
  {
   "cell_type": "code",
   "execution_count": 34,
   "id": "82d53f12-a792-43c4-bc7a-ea47d01c72f2",
   "metadata": {},
   "outputs": [],
   "source": [
    "def try_it(value):\n",
    "    try:\n",
    "        x = int(value)\n",
    "    except ValueError:\n",
    "        print(f'{value} could not be converted to an integer')\n",
    "    else:\n",
    "        print(f'int({value}) is {x}')\n",
    "    finally:\n",
    "        print('Finally Executed')"
   ]
  },
  {
   "cell_type": "code",
   "execution_count": 35,
   "id": "c7a305ee-0f30-4c48-be17-a45116fd232b",
   "metadata": {},
   "outputs": [
    {
     "name": "stdout",
     "output_type": "stream",
     "text": [
      "int(10.7) is 10\n",
      "Finally Executed\n"
     ]
    }
   ],
   "source": [
    "try_it(10.7)"
   ]
  },
  {
   "cell_type": "code",
   "execution_count": 36,
   "id": "6a3b2453-c8a8-47d3-94ca-360452eb1781",
   "metadata": {},
   "outputs": [
    {
     "name": "stdout",
     "output_type": "stream",
     "text": [
      "Python could not be converted to an integer\n",
      "Finally Executed\n"
     ]
    }
   ],
   "source": [
    "try_it('Python')"
   ]
  },
  {
   "cell_type": "markdown",
   "id": "c6210964-88fe-4881-93ef-c06b960bac59",
   "metadata": {},
   "source": [
    "#### Chapter 9.12 - Intro to Data Science: Working with CSV Files"
   ]
  },
  {
   "cell_type": "code",
   "execution_count": 37,
   "id": "b4ad19c7-e5d4-4239-ab80-ffc07cbdff5a",
   "metadata": {},
   "outputs": [],
   "source": [
    "import csv\n",
    "with open('accounts.csv', mode='w', newline='') as accounts:\n",
    "    writer = csv.writer(accounts)\n",
    "    writer.writerow([100, 'Jones', 24.98])\n",
    "    writer.writerow([200, 'Vore', 345.67])\n",
    "    writer.writerow([300, 'White', 0.00])\n",
    "    writer.writerow([400, 'Stone', -42.16])\n",
    "    writer.writerow([500, 'Rich', 224.62])\n",
    "    writer.writerow([615, 'Smith', 1515.99])"
   ]
  },
  {
   "cell_type": "code",
   "execution_count": 38,
   "id": "31af7440-1d99-4985-8656-6d7e0d900193",
   "metadata": {},
   "outputs": [
    {
     "name": "stdout",
     "output_type": "stream",
     "text": [
      "Account   Name         Balance\n",
      "100       Jones          24.98\n",
      "200       Vore          345.67\n",
      "300       White            0.0\n",
      "400       Stone         -42.16\n",
      "500       Rich          224.62\n",
      "615       Smith        1515.99\n"
     ]
    }
   ],
   "source": [
    "with open('accounts.csv', 'r', newline='') as accounts:\n",
    "    print(f'{\"Account\":<10}{\"Name\":<10}{\"Balance\":>10}')\n",
    "    reader = csv.reader(accounts)\n",
    "    for record in reader:\n",
    "        account, name, balance = record\n",
    "        print(f'{account:<10}{name:<10}{balance:>10}')"
   ]
  },
  {
   "cell_type": "markdown",
   "id": "e9ca4ec0-cb03-4dbf-9297-d925e3a30e42",
   "metadata": {},
   "source": [
    "#### Self Check 9.12"
   ]
  },
  {
   "cell_type": "code",
   "execution_count": 39,
   "id": "7d80627c-57e1-4bec-9180-963f909e168f",
   "metadata": {},
   "outputs": [],
   "source": [
    "import csv"
   ]
  },
  {
   "cell_type": "code",
   "execution_count": 40,
   "id": "ebc5bdda-98ac-4565-93d8-24858719d91d",
   "metadata": {},
   "outputs": [],
   "source": [
    "with open ('grades.csv', 'w', newline='') as grades:\n",
    "    writer = csv.writer(grades)\n",
    "    writer.writerow([1, 'Red', 'A'])\n",
    "    writer.writerow([2, 'Green', 'B'])\n",
    "    writer.writerow([3, 'White', 'A'])"
   ]
  },
  {
   "cell_type": "code",
   "execution_count": 41,
   "id": "fa32d005-d217-4185-8e34-ec88db5eaad2",
   "metadata": {},
   "outputs": [
    {
     "name": "stdout",
     "output_type": "stream",
     "text": [
      "ID  Name   Grade\n",
      "1   Red    A\n",
      "2   Green  B\n",
      "3   White  A\n"
     ]
    }
   ],
   "source": [
    "with open ('grades.csv', 'r', newline='') as grades:\n",
    "    print(f'{\"ID\":<4}{\"Name\":<7}{\"Grade\"}')\n",
    "    reader = csv.reader(grades)\n",
    "    for record in reader:\n",
    "        student_id, name, grade = record\n",
    "        print(f'{student_id:<4}{name:<7}{grade}')"
   ]
  }
 ],
 "metadata": {
  "kernelspec": {
   "display_name": "Python 3 (ipykernel)",
   "language": "python",
   "name": "python3"
  },
  "language_info": {
   "codemirror_mode": {
    "name": "ipython",
    "version": 3
   },
   "file_extension": ".py",
   "mimetype": "text/x-python",
   "name": "python",
   "nbconvert_exporter": "python",
   "pygments_lexer": "ipython3",
   "version": "3.9.7"
  }
 },
 "nbformat": 4,
 "nbformat_minor": 5
}
